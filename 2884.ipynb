{
 "cells": [
  {
   "cell_type": "code",
   "execution_count": 5,
   "metadata": {},
   "outputs": [
    {
     "name": "stdout",
     "output_type": "stream",
     "text": [
      "10 55\n",
      "10 10\n"
     ]
    }
   ],
   "source": [
    "# 백준알고리즘 2884번 문제 --- python\n",
    "\n",
    "hour, mini = map(int, input().split())\n",
    "if mini >= 45:\n",
    "    print(hour, mini-45)\n",
    "else:\n",
    "    hour = hour - 1\n",
    "    dif = 45 - mini\n",
    "    mini = mini + 15\n",
    "    print(hour, mini)"
   ]
  }
 ],
 "metadata": {
  "kernelspec": {
   "display_name": "Python 3",
   "language": "python",
   "name": "python3"
  },
  "language_info": {
   "codemirror_mode": {
    "name": "ipython",
    "version": 3
   },
   "file_extension": ".py",
   "mimetype": "text/x-python",
   "name": "python",
   "nbconvert_exporter": "python",
   "pygments_lexer": "ipython3",
   "version": "3.6.5"
  }
 },
 "nbformat": 4,
 "nbformat_minor": 4
}
