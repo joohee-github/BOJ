{
 "cells": [
  {
   "cell_type": "markdown",
   "metadata": {},
   "source": [
    "코드참고 : https://chldkato.tistory.com/157"
   ]
  },
  {
   "cell_type": "markdown",
   "metadata": {},
   "source": [
    "    청소하는 영역의 개수 구하기\n",
    "    장소 N*M의 직사각형\n",
    "    1*1의 정사각형 칸으로 나누어져있음.\n",
    "    각각의 칸은 벽 또는 빈 칸이다.\n",
    "    바라보는 방향 - 동서남북 중 하나\n",
    "    지도의 각 칸은 (r,c)로 나타낼 수 있고, r은 북쪽으로부터 떨어진 칸의 개수 c는 서쪽으로부터 떨어진 칸의 개수이다.\n",
    "    \n",
    "    1. 현재위치를 청소한다.\n",
    "    2. 현재위치에서 현재방향을 기준으로 왼쪽방향부터 차례대로 탐색을 진행\n",
    "    \n",
    "        a. 왼쪽방향에 아직 청소하지 않은 공간이 존재한다면 그 방향으로 회전한 다음 한 칸을 전진하고 1번부터 진행한다.\n",
    "        b. 왼쪽 방향에 청소할 공간이 없다면, 그 방향으로 회전하고 2번으로 돌아간다.\n",
    "        c. 네방향 모두 청소가 이미 되어있거나 벽인 경우 바라보는 방향을 유지한 채로 한칸 후진을 하고 2번으로 돌아간다.\n",
    "        d. 네 방향 모두 청소가 이미 되어있거나 벽이면서 뒤쪽 방향이 벽이라 후진도 할 수 없는 경우에는 작동을 멈춘다.\n",
    "        \n",
    "    \n",
    "    # 첫째 줄에 세로 크기 N과 가로 크기 M이 주어진다.\n",
    "    # 둘째 줄에 로봇 청소기가 있는 칸의 좌표 (r,c)와 바라보는 방향 d가 주어진다. d가 0인 경우에는 북쪽을, 1인 경우에는 동쪽을, 2인 경우에는 남쪽을, 3인 경우에는 서쪽을 바라본다.\n",
    "    # 셋째 줄부터 N개의 줄에 장소의 상태가 북쪽부터 남쪽 순서대로, 각 줄은 서쪽부터 동쪽 순서대로 주어진다. 빈칸은 0, 벽은 1로 주어진다. 장소의 모든 외곽은 벽이다. 로봇청소기가 있는 칸의 상태는 항상 빈 칸이다."
   ]
  },
  {
   "cell_type": "code",
   "execution_count": 2,
   "metadata": {},
   "outputs": [
    {
     "name": "stdout",
     "output_type": "stream",
     "text": [
      "11 10\n",
      "7 4 0\n",
      "1 1 1 1 1 1 1 1 1 1\n",
      "1 0 0 0 0 0 0 0 0 1\n",
      "1 0 0 0 1 1 1 1 0 1\n",
      "1 0 0 1 1 0 0 0 0 1\n",
      "1 0 1 1 0 0 0 0 0 1\n",
      "1 0 0 0 0 0 0 0 0 1\n",
      "1 0 0 0 0 0 0 1 0 1\n",
      "1 0 0 0 0 0 0 1 0 1\n",
      "1 0 0 0 0 0 0 1 0 1\n",
      "1 0 0 0 0 0 0 1 0 1\n",
      "1 1 1 1 1 1 1 1 1 1\n",
      "24\n"
     ]
    }
   ],
   "source": [
    "'''\n",
    "현재 내 위치가 (0,0)일때 인덱스를 기준으로 움직임\n",
    "'''\n",
    "\n",
    "# 북동남서\n",
    "dx = [-1, 0, 1, 0]\n",
    "dy = [0, 1, 0, -1]\n",
    "\n",
    "def clean(x, y, d):\n",
    "    \n",
    "    global ans\n",
    "    \n",
    "    if a[x][y] == 0:\n",
    "        a[x][y] = 2\n",
    "        ans += 1\n",
    "    \n",
    "    # 왼쪽 방향이 청소할 수 있는지 확인\n",
    "    # 청소할 수 없으면 다시 왼쪽 90도 회전\n",
    "    for _ in range(4): \n",
    "        nd = (d + 3) % 4 # 왼쪽방향\n",
    "        nx = x + dx[nd]\n",
    "        ny = y + dy[nd]\n",
    "        \n",
    "        if a[nx][ny] == 0:\n",
    "            clean(nx, ny, nd)  \n",
    "            return\n",
    "        \n",
    "        d = nd  #???\n",
    "        \n",
    "    # 네방향 모두 이동할 수 없으면 뒤로 이동할 수 있는지 확인\n",
    "    # 뒤로이동이 남쪽 아닌가?\n",
    "    \n",
    "    nd = (d + 2) % 4 # 뒤로이동 방향\n",
    "    nx = x + dx[nd]\n",
    "    ny = y + dy[nd]\n",
    "    \n",
    "    if a[nx][ny] == 1: # 뒤가 벽이면 종료\n",
    "        return\n",
    "    \n",
    "    clean(nx,ny,d)  # 이동할 수 있으면 다음 좌표와 방향을 입력한다.\n",
    "            \n",
    "n, m = map(int,input().split())  # 장소 크기\n",
    "x, y, d = map(int, input().split())  # 현재 좌표, 방향 (북:0, 동:1, 남:2, 서:3)\n",
    "a = [list(map(int,input().split())) for _ in range(n)]  # 로봇청소기가 청소해야할 방 (청소가능:0, 벽:1, 청소완료:2)\n",
    "\n",
    "ans = 0\n",
    "clean(x,y,d)\n",
    "print(ans)       \n",
    "    "
   ]
  }
 ],
 "metadata": {
  "kernelspec": {
   "display_name": "Python 3",
   "language": "python",
   "name": "python3"
  },
  "language_info": {
   "codemirror_mode": {
    "name": "ipython",
    "version": 3
   },
   "file_extension": ".py",
   "mimetype": "text/x-python",
   "name": "python",
   "nbconvert_exporter": "python",
   "pygments_lexer": "ipython3",
   "version": "3.6.5"
  }
 },
 "nbformat": 4,
 "nbformat_minor": 4
}
