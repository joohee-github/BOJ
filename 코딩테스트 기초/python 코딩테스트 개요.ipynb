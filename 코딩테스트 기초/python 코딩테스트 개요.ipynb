{
 "cells": [
  {
   "cell_type": "code",
   "execution_count": 2,
   "metadata": {},
   "outputs": [
    {
     "name": "stdout",
     "output_type": "stream",
     "text": [
      "1 번 학생은 합격입니다.\n",
      "5 번 학생은 합격입니다.\n"
     ]
    }
   ],
   "source": [
    "# 특정 번호의 학생은 제외하기\n",
    "score = [90, 85, 77, 65, 97]\n",
    "cheating_student_list = {2,4}\n",
    "\n",
    "for i in range(5):\n",
    "    if i+1 in cheating_student_list:\n",
    "        continue\n",
    "    if score[i] >= 80:\n",
    "        print(i+1, '번 학생은 합격입니다.')"
   ]
  },
  {
   "cell_type": "code",
   "execution_count": 4,
   "metadata": {
    "collapsed": true
   },
   "outputs": [
    {
     "name": "stdout",
     "output_type": "stream",
     "text": [
      "2 X 1 = 2\n",
      "2 X 2 = 4\n",
      "2 X 3 = 6\n",
      "2 X 4 = 8\n",
      "2 X 5 = 10\n",
      "2 X 6 = 12\n",
      "2 X 7 = 14\n",
      "2 X 8 = 16\n",
      "2 X 9 = 18\n",
      "\n",
      "3 X 1 = 3\n",
      "3 X 2 = 6\n",
      "3 X 3 = 9\n",
      "3 X 4 = 12\n",
      "3 X 5 = 15\n",
      "3 X 6 = 18\n",
      "3 X 7 = 21\n",
      "3 X 8 = 24\n",
      "3 X 9 = 27\n",
      "\n",
      "4 X 1 = 4\n",
      "4 X 2 = 8\n",
      "4 X 3 = 12\n",
      "4 X 4 = 16\n",
      "4 X 5 = 20\n",
      "4 X 6 = 24\n",
      "4 X 7 = 28\n",
      "4 X 8 = 32\n",
      "4 X 9 = 36\n",
      "\n",
      "5 X 1 = 5\n",
      "5 X 2 = 10\n",
      "5 X 3 = 15\n",
      "5 X 4 = 20\n",
      "5 X 5 = 25\n",
      "5 X 6 = 30\n",
      "5 X 7 = 35\n",
      "5 X 8 = 40\n",
      "5 X 9 = 45\n",
      "\n",
      "6 X 1 = 6\n",
      "6 X 2 = 12\n",
      "6 X 3 = 18\n",
      "6 X 4 = 24\n",
      "6 X 5 = 30\n",
      "6 X 6 = 36\n",
      "6 X 7 = 42\n",
      "6 X 8 = 48\n",
      "6 X 9 = 54\n",
      "\n",
      "7 X 1 = 7\n",
      "7 X 2 = 14\n",
      "7 X 3 = 21\n",
      "7 X 4 = 28\n",
      "7 X 5 = 35\n",
      "7 X 6 = 42\n",
      "7 X 7 = 49\n",
      "7 X 8 = 56\n",
      "7 X 9 = 63\n",
      "\n",
      "8 X 1 = 8\n",
      "8 X 2 = 16\n",
      "8 X 3 = 24\n",
      "8 X 4 = 32\n",
      "8 X 5 = 40\n",
      "8 X 6 = 48\n",
      "8 X 7 = 56\n",
      "8 X 8 = 64\n",
      "8 X 9 = 72\n",
      "\n",
      "9 X 1 = 9\n",
      "9 X 2 = 18\n",
      "9 X 3 = 27\n",
      "9 X 4 = 36\n",
      "9 X 5 = 45\n",
      "9 X 6 = 54\n",
      "9 X 7 = 63\n",
      "9 X 8 = 72\n",
      "9 X 9 = 81\n",
      "\n"
     ]
    }
   ],
   "source": [
    "# 중첩된 반복문 : 구구단 예시\n",
    "for i in range(2,10):\n",
    "    for j in range(1,10):\n",
    "        print(i, 'X', j, '=', i*j)\n",
    "    \n",
    "    # 공백을 만들어줌\n",
    "    print()"
   ]
  },
  {
   "cell_type": "code",
   "execution_count": 5,
   "metadata": {},
   "outputs": [
    {
     "name": "stdout",
     "output_type": "stream",
     "text": [
      "15\n"
     ]
    }
   ],
   "source": [
    "'''\n",
    "global 키워드로 변수를 지정하면 해당 함수에서는 지역 변수를 만들지 않고,\n",
    "함수 바깥에 선언된 변수를 참조하게 된다.\n",
    "'''\n",
    "\n",
    "a = 8\n",
    "\n",
    "def func():\n",
    "    global a\n",
    "    a += 7\n",
    "    \n",
    "func()\n",
    "print(a)\n",
    "\n"
   ]
  },
  {
   "cell_type": "code",
   "execution_count": 6,
   "metadata": {},
   "outputs": [
    {
     "name": "stdout",
     "output_type": "stream",
     "text": [
      "10\n"
     ]
    }
   ],
   "source": [
    "'''\n",
    "람다 표현식을 이용하면 함수를 매우 간단하게 작성할 수 있다.\n",
    "특정한 기능을 수행하는 함수를 한 줄에 작성할 수 있다는 점이 특징이다.\n",
    "lambda 매개변수 : return값\n",
    "함수가 한 번 쓰이고 말때 사용.\n",
    "'''\n",
    "\n",
    "def add(a,b):\n",
    "    return a+b\n",
    "\n",
    "# 람다표현식으로 구현한 add() 메서드 \n",
    "print((lambda a, b: a + b)(3,7))\n",
    "\n"
   ]
  },
  {
   "cell_type": "code",
   "execution_count": 8,
   "metadata": {},
   "outputs": [
    {
     "name": "stdout",
     "output_type": "stream",
     "text": [
      "[('이순신', 32), ('홍길동', 50), ('아무개', 74)]\n",
      "[('이순신', 32), ('홍길동', 50), ('아무개', 74)]\n"
     ]
    }
   ],
   "source": [
    "# 내장 함수에서 자주 사용되는 람다 함수.\n",
    "# sorted함수는 키 속성으로 정렬기준을 명시할 수 있음.\n",
    "# 리스트에 각각 원소는 튜플로 이루어져있음.\n",
    "array = [('홍길동',50), ('이순신', 32), ('아무개', 74)]\n",
    "\n",
    "def my_key(x):\n",
    "    return x[1]\n",
    "\n",
    "print(sorted(array, key = my_key))\n",
    "print(sorted(array, key = lambda x:x[1]))"
   ]
  },
  {
   "cell_type": "code",
   "execution_count": 9,
   "metadata": {},
   "outputs": [
    {
     "name": "stdout",
     "output_type": "stream",
     "text": [
      "[7, 9, 11, 13, 15]\n"
     ]
    }
   ],
   "source": [
    "# lambda 표현식 예시 : 여러 개의 리스트에 적용\n",
    "# map 각 원소에 어떤 함수를 적용할지 사용할 수 있음.\n",
    "\n",
    "list1 = [1, 2, 3, 4, 5]\n",
    "list2 = [6, 7, 8, 9, 10]\n",
    "\n",
    "result = map(lambda a,b: a + b, list1, list2)\n",
    "\n",
    "# 원소를 각각 더해줌\n",
    "print(list(result))"
   ]
  },
  {
   "cell_type": "markdown",
   "metadata": {},
   "source": [
    "    itertools : 파이썬에서 반복되는 형태의 데이터를 처리하는 기능을 제공하는 라이브러리, 순열과 조합 라이브러리를 제공한다.\n",
    "    heapq : 힙 기능을 제공하는 라이브러리, 우선순위 큐 기능을 구현하기 위해 사용한다.\n",
    "    bisect : 이진 탐색 기능을 제공하는 라이브러리\n",
    "    리스트에서 특정값을 찾고자할 때 사용되는 라이브러리\n",
    "    \n",
    "    collections : 덱, 카운터 등의 유용한 자료구조를 포함하고 있는 라이브러리"
   ]
  },
  {
   "cell_type": "code",
   "execution_count": 10,
   "metadata": {},
   "outputs": [
    {
     "data": {
      "text/plain": [
       "42"
      ]
     },
     "execution_count": 10,
     "metadata": {},
     "output_type": "execute_result"
    }
   ],
   "source": [
    "# eval\n",
    "result = eval('(3+7+4)*3')\n",
    "result\n",
    "# sorted함수는 key를 가지고 있어서 정렬기준 또한 사용할 수 있다.\n"
   ]
  },
  {
   "cell_type": "code",
   "execution_count": 12,
   "metadata": {},
   "outputs": [
    {
     "name": "stdout",
     "output_type": "stream",
     "text": [
      "[('A', 'B', 'C'), ('A', 'C', 'B'), ('B', 'A', 'C'), ('B', 'C', 'A'), ('C', 'A', 'B'), ('C', 'B', 'A')]\n"
     ]
    }
   ],
   "source": [
    "'''\n",
    "순열 : 서로 다른 n개에서 서로 다른 r개를 선택하여 일렬로 나열하는 것\n",
    "\n",
    "'''\n",
    "\n",
    "from itertools import permutations \n",
    "data = ['A','B','C'] # 데이터 준비\n",
    "\n",
    "result = list(permutations(data,3))  # 모든 순열 구하기\n",
    "print(result)"
   ]
  },
  {
   "cell_type": "code",
   "execution_count": 11,
   "metadata": {},
   "outputs": [
    {
     "name": "stdout",
     "output_type": "stream",
     "text": [
      "[('A', 'B'), ('A', 'C'), ('B', 'C')]\n"
     ]
    }
   ],
   "source": [
    "'''\n",
    "조합 : 서로 다른 n개에서 순서에 상관없이 서로 다른 r개를 선택하는 것\n",
    "'''\n",
    "from itertools import combinations \n",
    "data = ['A','B','C']\n",
    "\n",
    "result = list(combinations(data,2)) # 2개를 뽑는 모든 조합 구하기\n",
    "print(result)"
   ]
  },
  {
   "cell_type": "code",
   "execution_count": 13,
   "metadata": {},
   "outputs": [
    {
     "name": "stdout",
     "output_type": "stream",
     "text": [
      "[('A', 'A'), ('A', 'B'), ('A', 'C'), ('B', 'A'), ('B', 'B'), ('B', 'C'), ('C', 'A'), ('C', 'B'), ('C', 'C')]\n"
     ]
    }
   ],
   "source": [
    "# 중복 순열과 중복 조합\n",
    "\n",
    "from itertools import product\n",
    "data = ['A','B','C'] # 데이터 준비\n",
    "result = list(product(data, repeat=2)) # 2개를 뽑는 모든 순열 구하기 (중복 허용)\n",
    "print(result)\n",
    "\n",
    "from itertools import combinations_with_replacement\n",
    "data = ['A','B','C']  #데이터 준비\n",
    "result = list(combinations_with_replacement(data,2))  # 2개를 뽑는 모든 조합 구하기 (중복허용)"
   ]
  }
 ],
 "metadata": {
  "kernelspec": {
   "display_name": "Python 3",
   "language": "python",
   "name": "python3"
  },
  "language_info": {
   "codemirror_mode": {
    "name": "ipython",
    "version": 3
   },
   "file_extension": ".py",
   "mimetype": "text/x-python",
   "name": "python",
   "nbconvert_exporter": "python",
   "pygments_lexer": "ipython3",
   "version": "3.6.5"
  }
 },
 "nbformat": 4,
 "nbformat_minor": 4
}
