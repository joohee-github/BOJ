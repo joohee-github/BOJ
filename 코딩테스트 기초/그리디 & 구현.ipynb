{
 "cells": [
  {
   "cell_type": "markdown",
   "metadata": {},
   "source": [
    "    1. 그리디 알고리즘\n",
    "    \n",
    "    * 현재 상황에서 지금 당장 좋은 것만 고르는 방법\n",
    "    * 문제를 풀기 위한 최소한의 아이디어를 떠올릴 수 있는 능력\n",
    "    * 정당성 분석이 중요하다.\n",
    "    * 단순히 가장 좋아보이는 것을 반복적으로 선택해도 최적의 해를\n",
    "      구할 수 있는지 검토한다."
   ]
  },
  {
   "cell_type": "code",
   "execution_count": 2,
   "metadata": {},
   "outputs": [
    {
     "name": "stdout",
     "output_type": "stream",
     "text": [
      "6\n"
     ]
    }
   ],
   "source": [
    "# 거스름돈\n",
    "# 500원, 100원, 50원, 10원 짜리 동전이 무한히 존재한다.\n",
    "# 손님에게 거슬러 주어야 할 돈이 N원일 때 거슬러 주어야 할 동전의 최소개수\n",
    "# 거슬러 줘야 할 돈 N은 항상 10의 배수이다.\n",
    "# 가장 큰 화폐 단위부터 돈을 거슬러 준다.\n",
    "# 항상 큰단위가 작은 단위의 배수이므로 그리디 알고리즘의 방법이 정당하다.\n",
    "\n",
    "n = 1260\n",
    "count = 0\n",
    "\n",
    "# 큰 단위의 화폐부터 차례대로 확인하기\n",
    "array = [500,100,50,10]\n",
    "\n",
    "for coin in array:\n",
    "    count += n // coin  # 해당 화폐로 거슬러 줄 수 있는 동전의 개수 세기\n",
    "    n %= coin # / 몫+나머지, % 나머지, // 몫 \n",
    "    \n",
    "print(count)"
   ]
  },
  {
   "cell_type": "code",
   "execution_count": null,
   "metadata": {},
   "outputs": [],
   "source": [
    "#  1이 될 때까지 \n",
    "'''\n",
    "1. N에서 1을 뺀다.\n",
    "2. N을 K로 나눈다.\n",
    "\n",
    "N이 1이 될 때까지 1번 혹은 2번의 과정을 수행해야 하는 최소 횟수\n",
    "\n",
    "-> 주어진 N에 대하여 최대한 많이 나누기를 수행한다.\n",
    "'''\n",
    "\n",
    "n, k = map(int, input().split())\n",
    "result = 0\n",
    "\n",
    "while True:\n",
    "    # N이 K로 나누어 떨어지는 수가 될 때까지만 1씩 빼기\n",
    "    target = (n // k) * k  # K의 배수\n",
    "    result += (n - target)\n",
    "    n = target\n",
    "    \n",
    "    # N이 K보다 작을 때 (더 이상 나눌 수 없을 때) 반복문 탈출\n",
    "    # break문의 위치\n",
    "    if n < k:\n",
    "        break\n",
    "    \n",
    "    # K로 나누기\n",
    "    result += 1\n",
    "    n //= k\n",
    "    \n",
    "# 마지막으로 남은 수에 대해 1씩 빼기\n",
    "# n이 1이 될 때까지 이므로, (n-1)을 result에 더해준다.\n",
    "\n",
    "result += (n-1)\n",
    "print(result)"
   ]
  },
  {
   "cell_type": "code",
   "execution_count": 4,
   "metadata": {},
   "outputs": [
    {
     "name": "stdout",
     "output_type": "stream",
     "text": [
      "43564\n",
      "1440\n"
     ]
    }
   ],
   "source": [
    "# 곱하기 혹은 더하기 \n",
    "# 숫자로 구성된 문자열을 차례대로 곱하기 혹은 더하기를 넣어 가장 큰 수를 구하는 프로그램\n",
    "# 두 수 중에서 하나라도 0 혹은 1인 경우 더하기가 더 효율적이다.\n",
    "# 두 수 중에서 하나라도 1 이하인 경우에는 더하고, 두 수가 모두 2이상이면 곱한다.\n",
    "\n",
    "\n",
    "data = input()\n",
    "\n",
    "# 첫 번째 문자를 숫자로 변경하여 대입\n",
    "result = int(data[0])\n",
    "\n",
    "for i in range(1, len(data)):\n",
    "    # 두 수 중에서 하나라도 0 혹은 1인 경우, 더하기\n",
    "    num = int(data[i])\n",
    "    if num <= 1 or result <= 1:\n",
    "        result += num\n",
    "    else:\n",
    "        result *= num \n",
    "\n",
    "print(result)"
   ]
  },
  {
   "cell_type": "code",
   "execution_count": 5,
   "metadata": {},
   "outputs": [
    {
     "name": "stdout",
     "output_type": "stream",
     "text": [
      "( 0 , 0 ) ( 0 , 1 ) ( 0 , 2 ) ( 0 , 3 ) ( 0 , 4 ) \n",
      "( 1 , 0 ) ( 1 , 1 ) ( 1 , 2 ) ( 1 , 3 ) ( 1 , 4 ) \n",
      "( 2 , 0 ) ( 2 , 1 ) ( 2 , 2 ) ( 2 , 3 ) ( 2 , 4 ) \n",
      "( 3 , 0 ) ( 3 , 1 ) ( 3 , 2 ) ( 3 , 3 ) ( 3 , 4 ) \n",
      "( 4 , 0 ) ( 4 , 1 ) ( 4 , 2 ) ( 4 , 3 ) ( 4 , 4 ) \n"
     ]
    }
   ],
   "source": [
    "# 구현이란, 머릿속에 있는 알고리즘을 소스코드로 바꾸는 과정\n",
    "\n",
    "# 5 x 5 행렬 표현하기\n",
    "\n",
    "for i in range(5):\n",
    "    for j in range(5):\n",
    "        print('(',i,',',j,')', end = ' ')\n",
    "    print()"
   ]
  },
  {
   "cell_type": "code",
   "execution_count": 6,
   "metadata": {},
   "outputs": [
    {
     "name": "stdout",
     "output_type": "stream",
     "text": [
      "2 3\n",
      "1 2\n",
      "2 1\n",
      "3 2\n"
     ]
    }
   ],
   "source": [
    "# 완전 탐색 문제에서는 2차원 공간에서의 방향 벡터가 자주 활용된다.\n",
    "# 동, 북, 서, 남\n",
    "dx = [0, -1, 0, 1]\n",
    "dy = [1, 0, -1, 0]\n",
    "\n",
    "# 현재 위치\n",
    "x,y = 2,2\n",
    "\n",
    "for i in range(4):\n",
    "    \n",
    "    # 다음 위치\n",
    "    nx = x + dx[i]\n",
    "    ny = y + dy[i]\n",
    "    print(nx, ny)"
   ]
  },
  {
   "cell_type": "code",
   "execution_count": 8,
   "metadata": {},
   "outputs": [
    {
     "name": "stdout",
     "output_type": "stream",
     "text": [
      "5\n",
      "11475\n"
     ]
    }
   ],
   "source": [
    "# 시각\n",
    "'''\n",
    "정수 N이 입력되면 00시 00분 00초부터 N시 59분 59초까지의 모든 시각 중에서\n",
    "3이 하나라도 포함되는 모든 경우의 수를 구하는 프로그램을 작성하라\n",
    "-> 하루는 86,400초이므로, 00시 00분 00초부터 23시 59분 50초까지의\n",
    "모든 경우는 86,400가지이다.\n",
    "단순히 시각을 1씩 증가시키면서 3이 하나라도 포함되어 있는지 확인한다.\n",
    "가능한 경우의 수를 모두 검사해보는 완전 탐색 유형이다.\n",
    "'''\n",
    "\n",
    "h = int(input())\n",
    "\n",
    "count = 0\n",
    "\n",
    "for i in range(h+1):\n",
    "    for j in range(60):\n",
    "        for k in range(60):\n",
    "            \n",
    "            # 매 시각 안에 '3'이 포함되어 있다면 카운트 증가\n",
    "            if '3' in str(i) + str(j) + str(k):\n",
    "                count += 1\n",
    "print(count)\n"
   ]
  },
  {
   "cell_type": "code",
   "execution_count": 7,
   "metadata": {},
   "outputs": [
    {
     "name": "stdout",
     "output_type": "stream",
     "text": [
      "20\n",
      "R R R D\n",
      "2 4\n"
     ]
    }
   ],
   "source": [
    "#  상하좌우 \n",
    "\n",
    "'''\n",
    "N x N 크기의 정사각형 공간 위에서 1칸씩 이동할 수 있을때,\n",
    "가장 왼쪽 위 좌표는 (1,1) <- 좌표가 0부터 시작하는지 0부터 시작하는지 확인하기\n",
    "\n",
    "L : 왼쪽으로 한 칸 이동\n",
    "R : 오른쪽으로 한 칸 이동\n",
    "U : 위로 한 칸 이동\n",
    "D : 아래로 한 칸 이동\n",
    "\n",
    "공간을 벗어나는 움직임은 무시된다.\n",
    "'''\n",
    "# 첫째  줄에 공간의 크기를 나타내는 N이 주어진다.\n",
    "# 둘째 줄에 A가 이동할 계획서 내용이 주어진다.\n",
    "# 첫째 줄에 여행가 A가 최종적으로 도착할 지점의 좌표 (X,Y)를 공백을 기준으로 출력한다.\n",
    "\n",
    "\n",
    "n = int(input())\n",
    "x,y = 1,1\n",
    "plans = input().split()\n",
    "\n",
    "# L, R, U, D에 따른 이동방향 \n",
    "dx = [0,0,-1,1]\n",
    "dy = [-1,1,0,0]\n",
    "move_types = ['L','R','U','D']\n",
    "\n",
    "# 이동 계획을 하나씩 확인하기\n",
    "for plan in plans:\n",
    "    for i in range(len(move_types)):\n",
    "        if plan == move_types[i]:\n",
    "            nx = x + dx[i]\n",
    "            ny = y + dy[i]\n",
    "            \n",
    "    # 공간을 벗어나는 경우 무시\n",
    "    if nx < 1 or ny < 1 or nx > n or ny > n:\n",
    "        continue\n",
    "    # 이동 수행\n",
    "    x, y = nx, ny\n",
    "print(x,y)\n"
   ]
  },
  {
   "cell_type": "code",
   "execution_count": 8,
   "metadata": {},
   "outputs": [
    {
     "name": "stdout",
     "output_type": "stream",
     "text": [
      "DJ5F4H2S\n",
      "D F H J S 11\n"
     ]
    }
   ],
   "source": [
    "# 문자열 재정렬\n",
    "'''\n",
    "알파벳 대문자와 숫자(0~9)로만 구성된 문자열이 입력으로 주어짐\n",
    "이때 모든 알파벳을 오름차순으로 정렬하고 출력\n",
    "그 뒤에 모든 숫자를 더한 값을 이어서 출력\n",
    "\n",
    "'''\n",
    "# 타입에 주의하기\n",
    "\n",
    "data = input()\n",
    "result = []\n",
    "value = 0\n",
    "\n",
    "# 문자를 하나씩 확인하며\n",
    "for x in data:\n",
    "    if x.isalpha():\n",
    "        result.append(x)\n",
    "    else:\n",
    "        value += int(x)\n",
    "\n",
    "# 알파벳을 오름차순으로 정렬\n",
    "result.sort()\n",
    "\n",
    "# 숫자가 하나라도 존재하는 경우 가장 뒤에 삽입한다.\n",
    "if value != 0:\n",
    "    result.append(str(value))\n",
    "\n",
    "# 최종 결과 출력(리스트를 문자열로 변환해 출력)\n",
    "print(' '.join(result))\n"
   ]
  },
  {
   "cell_type": "code",
   "execution_count": 18,
   "metadata": {},
   "outputs": [
    {
     "name": "stdout",
     "output_type": "stream",
     "text": [
      "c4\n",
      "8\n"
     ]
    }
   ],
   "source": [
    "# 왕실의 나이트\n",
    "'''\n",
    "정원 : 8*8좌표 평면\n",
    "1. 수평으로 두 칸 이동한 뒤에 수직으로 한 칸 이동하기\n",
    "2. 수직으로 두 칸 이동한 뒤에 수평으로 한 칸 이동하기\n",
    "행의 위치는 1-8\n",
    "열 위치는 a-h\n",
    "입력문자는 a1처럼 열과 행으로 이루어진다.\n",
    "-> 나이트가 이동할 수 있는 경우의 수를 출력하기\n",
    "* 경우의 수 출력이므로 출력값 result = 0 선언하기 *\n",
    "경우의 수이므로 이동할 수 있는지 없는지가 중요함 ***\n",
    "'''\n",
    "# 현재 나이트 위치 입력\n",
    "\n",
    "input_data = input()\n",
    "row = int(input_data[1])\n",
    "column = int(ord(input_data[0])) - int(ord('a')) + 1\n",
    "\n",
    "# 나이트가 이동할 수 있는 8가지 방향 정의\n",
    "steps = [(-2,-1),(-2,1),(-1,2),(-1,-2),(1,-2),(1,2),(2,-1),(2,1)]\n",
    "\n",
    "# 8가지 방향에 대해 각 위치로 이동이 가능한지 확인\n",
    "result = 0\n",
    "for step in steps:\n",
    "    # 이동하고자 하는 위치 확인\n",
    "    nrow = row + step[0]\n",
    "    ncol = column + step[1]\n",
    "    # 해당위치로 이동이 가능하다면 카운트 증가\n",
    "    if nrow >= 1 and ncol >=1 and nrow <= 8 and ncol <=8:\n",
    "        result += 1\n",
    "\n",
    "print(result)"
   ]
  },
  {
   "cell_type": "code",
   "execution_count": 19,
   "metadata": {
    "collapsed": true
   },
   "outputs": [
    {
     "data": {
      "text/plain": [
       "'\\n맵은 N x M의 직사각형\\n각각의 칸은 육지 또는 바다이다.\\n캐릭터는 동서남북 중 한 곳을 바라본다.\\n\\n맵의 각칸은 (A,B) \\nA = 북쪽으로 떨어진 칸의 갯수\\nB = 서쪽으로 떨어진 칸의 갯수\\n바다로 되어있는 공간에 갈수없음\\n\\n1. 현재 위치에서 현재 방향을 기준으로 \\n왼쪽 방향(반시계 방향으로 90도 회전한 방향)부터 차례대로 갈 곳을 정한다.\\n\\n2. 캐릭터의 바로 왼쪽 방향에 아직 가보지 않은 칸이 존재한다면, \\n왼쪽 방향으로 회전한 다음 왼쪽으로 한 칸을 전진 한다. \\n왼쪽 방향에 가보지 않은 칸이 없다면, 왼쪽 방향으로 회전만 수행하고 1단계로 돌아간다.\\n\\n3. 만약 네 방향 모두 이미 가본 칸이거나 바다로 되어있는 칸인 경우에는, \\n바라보는 방향을 유지한 채로 한 칸 뒤로 가고 1단계로 돌아간다. \\n단, 이때 뒤쪽 방향이 바다인 칸이라 뒤로 갈 수 없는 경우에는 움직임을 멈춘다.\\n\\n캐릭터가 방문한 칸의 수를 출력하라.\\n\\n'"
      ]
     },
     "execution_count": 19,
     "metadata": {},
     "output_type": "execute_result"
    }
   ],
   "source": [
    "# 게임개발\n",
    "'''\n",
    "맵은 N x M의 직사각형\n",
    "각각의 칸은 육지 또는 바다이다.\n",
    "캐릭터는 동서남북 중 한 곳을 바라본다.\n",
    "\n",
    "맵의 각칸은 (A,B) \n",
    "A = 북쪽으로 떨어진 칸의 갯수\n",
    "B = 서쪽으로 떨어진 칸의 갯수\n",
    "바다로 되어있는 공간에 갈수없음\n",
    "\n",
    "1. 현재 위치에서 현재 방향을 기준으로 \n",
    "왼쪽 방향(반시계 방향으로 90도 회전한 방향)부터 차례대로 갈 곳을 정한다.\n",
    "\n",
    "2. 캐릭터의 바로 왼쪽 방향에 아직 가보지 않은 칸이 존재한다면, \n",
    "왼쪽 방향으로 회전한 다음 왼쪽으로 한 칸을 전진 한다. \n",
    "왼쪽 방향에 가보지 않은 칸이 없다면, 왼쪽 방향으로 회전만 수행하고 1단계로 돌아간다.\n",
    "\n",
    "3. 만약 네 방향 모두 이미 가본 칸이거나 바다로 되어있는 칸인 경우에는, \n",
    "바라보는 방향을 유지한 채로 한 칸 뒤로 가고 1단계로 돌아간다. \n",
    "단, 이때 뒤쪽 방향이 바다인 칸이라 뒤로 갈 수 없는 경우에는 움직임을 멈춘다.\n",
    "\n",
    "캐릭터가 방문한 칸의 수를 출력하라.\n",
    "\n",
    "셋째 줄부터는 맵이 육지인지 바다인지 입력한다. N개의 줄에 맵의 상태가 북쪽부터 남쪽 순서대로, 각 줄의 데이터는 서쪽부터 동쪽 순서대로 주어진다. 맵의 외곽은 항상 바다로 되어있다.\n",
    "- 0: 육지\n",
    "- 1: 바다\n",
    "\n",
    "출력조건\n",
    "- 첫째 줄에 이동을 마친 후 캐릭터가 방문한 칸의 수를 출력한다.\n",
    "\n",
    "탈출조건\n",
    "- 네 방향 모두 갈 수 없고, 뒤가 바다로 막혀있는 경우 break\n",
    "'''\n",
    "# N, M을 공백을 기준으로 구분하여 입력받기\n",
    "n,m = map(int,input().split())\n",
    "\n",
    "# 방문한 위치를 저장하기 위한 맵을 생성해 0으로 초기화하기\n",
    "d = [[0] * m for _ in range(n)]\n",
    "\n",
    "# 현재 캐릭터의 X 좌표, Y좌표 방향을 입력받기\n",
    "X,Y,direction = map(int,input().split()) # 0123 북동남서\n",
    "\n",
    "# 현재 좌표 방문처리하기\n",
    "d[x][y] = 1 \n",
    "\n",
    "# 전체 맵 정보 입력받기 (육지 0, 바다 1)\n",
    "array = []\n",
    "for _ in range(n):\n",
    "    array.append(list(map(int, input().split())))\n",
    "    \n",
    "# 방향 정의 -> 새로운 좌표로 이동하기 위함\n",
    "dx = [-1,0,1,0]\n",
    "dy = [0,1,0,-1]\n",
    "\n",
    "# 왼쪽 회전\n",
    "def left_direction():\n",
    "    global direction\n",
    "    direction -= -1:\n",
    "        if direction == -1:\n",
    "            dirction = 3\n",
    "            \n",
    "count = 1\n",
    "turn_time = 0\n",
    "\n",
    "while True:\n",
    "    \n",
    "    # 왼쪽으로 회전\n",
    "    left_direction()\n",
    "    nx = x + dx[direction]\n",
    "    ny = y + dy[direction]\n",
    "    \n",
    "    # 회전한 이후 정면에 가보지 않은 칸이 존재하는 경우 이동\n",
    "    \n",
    "    if d[nx][ny] == 0 and array[nx][ny] == 0: \n",
    "        d[nx][ny] = 1 \n",
    "        x = nx\n",
    "        y = ny\n",
    "        count += 1\n",
    "        turn_time = 0 # 이건 굳이 왜?\n",
    "        continue\n",
    "    # 회전한 이후 정면에 가보지 않은 칸이 없거나 바다인경우\n",
    "    else:\n",
    "        turn_time += 1\n",
    "    # 네 방향 모두 갈 수 없는 경우\n",
    "    if turn_time == 4:\n",
    "        # 뒤로회전 + 전방 위치 지정\n",
    "        nx = x - dx[direction] #???\n",
    "        ny = y - dy[direction]\n",
    "        \n",
    "        # 뒤로 갈 수 있다면 이동(방문한곳은 이동할수있으나, 바다는 이동할수없음)\n",
    "        \n",
    "        if array[nx][ny] == 0:\n",
    "            x = nx\n",
    "            y = ny\n",
    "            \n",
    "        # 뒤가 바다로 막혀있는 경우\n",
    "        else:\n",
    "            break\n",
    "        # 새로운 위치이므로\n",
    "        turn_time = 0\n",
    "    \n",
    "print(count)\n",
    "        "
   ]
  },
  {
   "cell_type": "code",
   "execution_count": null,
   "metadata": {},
   "outputs": [],
   "source": []
  },
  {
   "cell_type": "code",
   "execution_count": null,
   "metadata": {},
   "outputs": [],
   "source": []
  }
 ],
 "metadata": {
  "kernelspec": {
   "display_name": "Python 3",
   "language": "python",
   "name": "python3"
  },
  "language_info": {
   "codemirror_mode": {
    "name": "ipython",
    "version": 3
   },
   "file_extension": ".py",
   "mimetype": "text/x-python",
   "name": "python",
   "nbconvert_exporter": "python",
   "pygments_lexer": "ipython3",
   "version": "3.6.5"
  }
 },
 "nbformat": 4,
 "nbformat_minor": 4
}
